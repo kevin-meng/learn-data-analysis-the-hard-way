{
 "cells": [
  {
   "cell_type": "markdown",
   "metadata": {},
   "source": [
    "# 数据合并"
   ]
  },
  {
   "cell_type": "markdown",
   "metadata": {},
   "source": [
    "数据的合并，可以通过两种方式实现\n",
    "1. concat（堆叠）\n",
    "\n",
    "    堆叠的方式可以是横向、也可以是纵向的； 纵向类似与SQL 中的 `Union all` 操作\n",
    "\n",
    "\n",
    "2. merge（拼接）\n",
    "\n",
    "    拼接是指根于一个或者多个键（列）将数据表`横向`拼接起来。 类似与 SQL 中的 `join`操作"
   ]
  },
  {
   "cell_type": "markdown",
   "metadata": {},
   "source": [
    "## 一、数据读取"
   ]
  },
  {
   "cell_type": "markdown",
   "metadata": {},
   "source": [
    "### 导入必要的库"
   ]
  },
  {
   "cell_type": "code",
   "execution_count": 1,
   "metadata": {
    "ExecuteTime": {
     "end_time": "2018-04-27T14:20:12.083879Z",
     "start_time": "2018-04-27T14:20:06.145202Z"
    }
   },
   "outputs": [],
   "source": [
    "import pandas as pd #数据分析\n",
    "import numpy as np #科学计算"
   ]
  },
  {
   "cell_type": "code",
   "execution_count": 2,
   "metadata": {
    "ExecuteTime": {
     "end_time": "2018-04-27T14:32:01.246138Z",
     "start_time": "2018-04-27T14:32:01.225144Z"
    }
   },
   "outputs": [],
   "source": [
    "data_train = pd.read_csv(\"../input/titanic.csv\")"
   ]
  },
  {
   "cell_type": "code",
   "execution_count": 85,
   "metadata": {},
   "outputs": [],
   "source": [
    "use_cols1 = ['PassengerId','Sex','Fare']\n",
    "use_cols2 = ['PassengerId','Sex','SibSp','Pclass']"
   ]
  },
  {
   "cell_type": "code",
   "execution_count": 89,
   "metadata": {
    "ExecuteTime": {
     "end_time": "2018-04-27T14:40:05.521618Z",
     "start_time": "2018-04-27T14:40:05.511652Z"
    }
   },
   "outputs": [],
   "source": [
    "sub_data1 = data_train.loc[:100,use_cols1]\n",
    "sub_data2 = data_train.loc[:100,use_cols2]\n",
    "\n",
    "sub_data3 = data_train.loc[50:150,use_cols1]\n",
    "sub_data4 = data_train.loc[50:150,use_cols2].set_index('PassengerId')"
   ]
  },
  {
   "cell_type": "markdown",
   "metadata": {},
   "source": [
    "## 一、Concat"
   ]
  },
  {
   "cell_type": "markdown",
   "metadata": {},
   "source": [
    "### 1.1 将 sub_data1 与 sub_data3 按行拼接(忽略索引)data1"
   ]
  },
  {
   "cell_type": "markdown",
   "metadata": {},
   "source": [
    "#### 纵向堆叠，对行 axis = 0 情况(默认)    ====>变长 \n",
    "\n",
    "<font color='red'>注意变化后的形状</font>"
   ]
  },
  {
   "cell_type": "code",
   "execution_count": null,
   "metadata": {},
   "outputs": [],
   "source": []
  },
  {
   "cell_type": "markdown",
   "metadata": {},
   "source": [
    "### 1.2 将sub_data1,sub_data2 按行拼接 内拼接\n",
    "#### 仅保留公共部分 列字段"
   ]
  },
  {
   "cell_type": "code",
   "execution_count": null,
   "metadata": {},
   "outputs": [],
   "source": []
  },
  {
   "cell_type": "markdown",
   "metadata": {},
   "source": [
    "### 1.3 将sub_data1,sub_data2 按列拼接\n",
    "\n",
    "#### 横向堆叠，对列  axis = 1    ====>变宽 \n",
    "\n",
    "<font color='red'>注意变化后的形状</font>\n"
   ]
  },
  {
   "cell_type": "code",
   "execution_count": null,
   "metadata": {},
   "outputs": [],
   "source": []
  },
  {
   "cell_type": "markdown",
   "metadata": {},
   "source": [
    "### 1.4 将sub_data1,sub_data3 按列拼接 内拼接"
   ]
  },
  {
   "cell_type": "code",
   "execution_count": null,
   "metadata": {},
   "outputs": [],
   "source": []
  },
  {
   "cell_type": "code",
   "execution_count": null,
   "metadata": {},
   "outputs": [],
   "source": []
  },
  {
   "cell_type": "markdown",
   "metadata": {},
   "source": [
    "##  二、Merge"
   ]
  },
  {
   "cell_type": "markdown",
   "metadata": {},
   "source": [
    "###  2.1 将sub_data1 和 sub_data3 数据根据 PassengerId 进行 左 拼接"
   ]
  },
  {
   "cell_type": "code",
   "execution_count": null,
   "metadata": {},
   "outputs": [],
   "source": []
  },
  {
   "cell_type": "markdown",
   "metadata": {},
   "source": [
    "### 2.2 将sub_data1和 sub_data3数据根据'PassengerId','Age' 进行 内部合并"
   ]
  },
  {
   "cell_type": "code",
   "execution_count": null,
   "metadata": {},
   "outputs": [],
   "source": []
  },
  {
   "cell_type": "markdown",
   "metadata": {},
   "source": [
    "### 2.3 将sub_data1 和 sub_data4 数据根据 PassengerId 公共数据合并 \n",
    "\n",
    "#### 有同名列的情况\n",
    "同名字段添加后缀left right。`suffixes`  默认_x _y"
   ]
  },
  {
   "cell_type": "code",
   "execution_count": null,
   "metadata": {},
   "outputs": [],
   "source": []
  },
  {
   "cell_type": "code",
   "execution_count": null,
   "metadata": {},
   "outputs": [],
   "source": []
  }
 ],
 "metadata": {
  "kernelspec": {
   "display_name": "Python 3",
   "language": "python",
   "name": "python3"
  },
  "language_info": {
   "codemirror_mode": {
    "name": "ipython",
    "version": 3
   },
   "file_extension": ".py",
   "mimetype": "text/x-python",
   "name": "python",
   "nbconvert_exporter": "python",
   "pygments_lexer": "ipython3",
   "version": "3.6.2"
  },
  "toc": {
   "nav_menu": {},
   "number_sections": true,
   "sideBar": true,
   "skip_h1_title": false,
   "toc_cell": false,
   "toc_position": {},
   "toc_section_display": "block",
   "toc_window_display": false
  }
 },
 "nbformat": 4,
 "nbformat_minor": 2
}
